{
 "cells": [
  {
   "cell_type": "code",
   "execution_count": 1,
   "id": "1981509c",
   "metadata": {},
   "outputs": [],
   "source": [
    "import sqlite3\n",
    "\n",
    "coneccion = sqlite3.connect('BaseDatos')\n",
    "\n",
    "cursor = coneccion.cursor()"
   ]
  },
  {
   "cell_type": "code",
   "execution_count": 3,
   "id": "83fae628",
   "metadata": {},
   "outputs": [
    {
     "data": {
      "text/plain": [
       "<sqlite3.Cursor at 0x29845022a40>"
      ]
     },
     "execution_count": 3,
     "metadata": {},
     "output_type": "execute_result"
    }
   ],
   "source": [
    "cursor.execute('''CREATE TABLE libros(\n",
    "                  id_libro INTEGER PRIMARY KEY AUTOINCREMENT,\n",
    "                  titulo VARCHAR(30),\n",
    "                  autor VARCHAR(30),\n",
    "                  isbn VARCHAR(30),\n",
    "                  disponibilidad VARCHAR(30)\n",
    ")\n",
    "''')"
   ]
  },
  {
   "cell_type": "code",
   "execution_count": 4,
   "id": "85dfd05e",
   "metadata": {},
   "outputs": [
    {
     "data": {
      "text/plain": [
       "<sqlite3.Cursor at 0x29845022a40>"
      ]
     },
     "execution_count": 4,
     "metadata": {},
     "output_type": "execute_result"
    }
   ],
   "source": [
    "cursor.execute('''CREATE TABLE autores(\n",
    "                  id_autor INTEGER PRIMARY KEY AUTOINCREMENT,\n",
    "                  nombre VARCHAR(30),\n",
    "                  nacionalidad VARCHAR(30)\n",
    "\n",
    ")\n",
    "                    \n",
    "\n",
    "''')"
   ]
  },
  {
   "cell_type": "code",
   "execution_count": 5,
   "id": "4b483390",
   "metadata": {},
   "outputs": [
    {
     "data": {
      "text/plain": [
       "<sqlite3.Cursor at 0x29845022a40>"
      ]
     },
     "execution_count": 5,
     "metadata": {},
     "output_type": "execute_result"
    }
   ],
   "source": [
    "cursor.execute('''CREATE TABLE usuarios(\n",
    "                  id_usuarios INTEGER PRIMARY KEY,\n",
    "                  nombre VARCHAR(30),\n",
    "                  direccion VARCHAR(30),\n",
    "                  telefono VARCHAR(30)\n",
    "\n",
    ")\n",
    "                    \n",
    "\n",
    "''')"
   ]
  },
  {
   "cell_type": "code",
   "execution_count": 7,
   "id": "bef4e6c9",
   "metadata": {},
   "outputs": [
    {
     "data": {
      "text/plain": [
       "<sqlite3.Cursor at 0x29845022a40>"
      ]
     },
     "execution_count": 7,
     "metadata": {},
     "output_type": "execute_result"
    }
   ],
   "source": [
    "cursor.execute('''CREATE TABLE prestamos(\n",
    "                  id_prestamos INTEGER PRIMARY KEY,\n",
    "                  id_libros INTEGER,\n",
    "                  id_usuarios INTEGER,\n",
    "                  fecha_prestamo VARCHAR(30),\n",
    "                  fecha_devolucion VARCHAR(30),\n",
    "                  FOREIGN KEY (id_libros) REFERENCES libro (id_libros),\n",
    "                  FOREIGN KEY (id_usuarios) REFERENCES usuarios (id_usuarios)\n",
    "\n",
    ")\n",
    "                \n",
    "\n",
    "''')"
   ]
  },
  {
   "cell_type": "code",
   "execution_count": 10,
   "id": "c8c769b3",
   "metadata": {},
   "outputs": [
    {
     "data": {
      "text/plain": [
       "<sqlite3.Cursor at 0x29845022a40>"
      ]
     },
     "execution_count": 10,
     "metadata": {},
     "output_type": "execute_result"
    }
   ],
   "source": [
    "cursor.execute(\"INSERT INTO libros VALUES (1,'libro1', 'autor1', '1', 'disponible')\")"
   ]
  },
  {
   "cell_type": "code",
   "execution_count": 11,
   "id": "339d187b",
   "metadata": {},
   "outputs": [
    {
     "data": {
      "text/plain": [
       "<sqlite3.Cursor at 0x29845022a40>"
      ]
     },
     "execution_count": 11,
     "metadata": {},
     "output_type": "execute_result"
    }
   ],
   "source": [
    "cursor.execute(\"INSERT INTO autores VALUES (1, 'autor1', 'nacionalidad1')\")"
   ]
  },
  {
   "cell_type": "code",
   "execution_count": 12,
   "id": "de428477",
   "metadata": {},
   "outputs": [
    {
     "data": {
      "text/plain": [
       "<sqlite3.Cursor at 0x29845022a40>"
      ]
     },
     "execution_count": 12,
     "metadata": {},
     "output_type": "execute_result"
    }
   ],
   "source": [
    "cursor.execute(\"INSERT INTO usuarios VALUES (1, 'usuario1', 'direccion1', '11111')\")"
   ]
  },
  {
   "cell_type": "code",
   "execution_count": 14,
   "id": "4713187a",
   "metadata": {},
   "outputs": [
    {
     "data": {
      "text/plain": [
       "<sqlite3.Cursor at 0x29845022a40>"
      ]
     },
     "execution_count": 14,
     "metadata": {},
     "output_type": "execute_result"
    }
   ],
   "source": [
    "cursor.execute(\"INSERT INTO prestamos VALUES (1,1, 'usuario1', '2/5/23', 2/6/23 )\")"
   ]
  },
  {
   "cell_type": "code",
   "execution_count": null,
   "id": "41a00138",
   "metadata": {},
   "outputs": [],
   "source": []
  }
 ],
 "metadata": {
  "kernelspec": {
   "display_name": "Python 3 (ipykernel)",
   "language": "python",
   "name": "python3"
  },
  "language_info": {
   "codemirror_mode": {
    "name": "ipython",
    "version": 3
   },
   "file_extension": ".py",
   "mimetype": "text/x-python",
   "name": "python",
   "nbconvert_exporter": "python",
   "pygments_lexer": "ipython3",
   "version": "3.11.5"
  }
 },
 "nbformat": 4,
 "nbformat_minor": 5
}
